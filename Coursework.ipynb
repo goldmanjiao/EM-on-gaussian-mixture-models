{
 "cells": [
  {
   "cell_type": "markdown",
   "metadata": {},
   "source": [
    "# Machine Learning Coursework U1901363"
   ]
  },
  {
   "cell_type": "code",
   "execution_count": 1,
   "metadata": {},
   "outputs": [],
   "source": [
    "# Importing the modules\n",
    "\n",
    "import pandas as pd\n",
    "import numpy as np\n",
    "import seaborn as sns\n",
    "import matplotlib.pyplot as plt\n",
    "import math\n",
    "from sklearn.cluster import KMeans\n",
    "from scipy.spatial.distance import cdist\n",
    "from scipy.stats import multivariate_normal\n",
    "\n"
   ]
  },
  {
   "cell_type": "markdown",
   "metadata": {},
   "source": [
    "## Dataset (A)"
   ]
  },
  {
   "cell_type": "code",
   "execution_count": 2,
   "metadata": {},
   "outputs": [
    {
     "data": {
      "text/html": [
       "<div>\n",
       "<style scoped>\n",
       "    .dataframe tbody tr th:only-of-type {\n",
       "        vertical-align: middle;\n",
       "    }\n",
       "\n",
       "    .dataframe tbody tr th {\n",
       "        vertical-align: top;\n",
       "    }\n",
       "\n",
       "    .dataframe thead th {\n",
       "        text-align: right;\n",
       "    }\n",
       "</style>\n",
       "<table border=\"1\" class=\"dataframe\">\n",
       "  <thead>\n",
       "    <tr style=\"text-align: right;\">\n",
       "      <th></th>\n",
       "      <th>S_len</th>\n",
       "      <th>S_wid</th>\n",
       "      <th>P_len</th>\n",
       "      <th>P_wid</th>\n",
       "      <th>Type</th>\n",
       "    </tr>\n",
       "  </thead>\n",
       "  <tbody>\n",
       "    <tr>\n",
       "      <th>0</th>\n",
       "      <td>5.1</td>\n",
       "      <td>3.5</td>\n",
       "      <td>1.4</td>\n",
       "      <td>0.2</td>\n",
       "      <td>Iris-setosa</td>\n",
       "    </tr>\n",
       "    <tr>\n",
       "      <th>1</th>\n",
       "      <td>4.9</td>\n",
       "      <td>3.0</td>\n",
       "      <td>1.4</td>\n",
       "      <td>0.2</td>\n",
       "      <td>Iris-setosa</td>\n",
       "    </tr>\n",
       "    <tr>\n",
       "      <th>2</th>\n",
       "      <td>4.7</td>\n",
       "      <td>3.2</td>\n",
       "      <td>1.3</td>\n",
       "      <td>0.2</td>\n",
       "      <td>Iris-setosa</td>\n",
       "    </tr>\n",
       "    <tr>\n",
       "      <th>3</th>\n",
       "      <td>4.6</td>\n",
       "      <td>3.1</td>\n",
       "      <td>1.5</td>\n",
       "      <td>0.2</td>\n",
       "      <td>Iris-setosa</td>\n",
       "    </tr>\n",
       "    <tr>\n",
       "      <th>4</th>\n",
       "      <td>5.0</td>\n",
       "      <td>3.6</td>\n",
       "      <td>1.4</td>\n",
       "      <td>0.2</td>\n",
       "      <td>Iris-setosa</td>\n",
       "    </tr>\n",
       "    <tr>\n",
       "      <th>...</th>\n",
       "      <td>...</td>\n",
       "      <td>...</td>\n",
       "      <td>...</td>\n",
       "      <td>...</td>\n",
       "      <td>...</td>\n",
       "    </tr>\n",
       "    <tr>\n",
       "      <th>145</th>\n",
       "      <td>6.7</td>\n",
       "      <td>3.0</td>\n",
       "      <td>5.2</td>\n",
       "      <td>2.3</td>\n",
       "      <td>Iris-virginica</td>\n",
       "    </tr>\n",
       "    <tr>\n",
       "      <th>146</th>\n",
       "      <td>6.3</td>\n",
       "      <td>2.5</td>\n",
       "      <td>5.0</td>\n",
       "      <td>1.9</td>\n",
       "      <td>Iris-virginica</td>\n",
       "    </tr>\n",
       "    <tr>\n",
       "      <th>147</th>\n",
       "      <td>6.5</td>\n",
       "      <td>3.0</td>\n",
       "      <td>5.2</td>\n",
       "      <td>2.0</td>\n",
       "      <td>Iris-virginica</td>\n",
       "    </tr>\n",
       "    <tr>\n",
       "      <th>148</th>\n",
       "      <td>6.2</td>\n",
       "      <td>3.4</td>\n",
       "      <td>5.4</td>\n",
       "      <td>2.3</td>\n",
       "      <td>Iris-virginica</td>\n",
       "    </tr>\n",
       "    <tr>\n",
       "      <th>149</th>\n",
       "      <td>5.9</td>\n",
       "      <td>3.0</td>\n",
       "      <td>5.1</td>\n",
       "      <td>1.8</td>\n",
       "      <td>Iris-virginica</td>\n",
       "    </tr>\n",
       "  </tbody>\n",
       "</table>\n",
       "<p>150 rows × 5 columns</p>\n",
       "</div>"
      ],
      "text/plain": [
       "     S_len  S_wid  P_len  P_wid            Type\n",
       "0      5.1    3.5    1.4    0.2     Iris-setosa\n",
       "1      4.9    3.0    1.4    0.2     Iris-setosa\n",
       "2      4.7    3.2    1.3    0.2     Iris-setosa\n",
       "3      4.6    3.1    1.5    0.2     Iris-setosa\n",
       "4      5.0    3.6    1.4    0.2     Iris-setosa\n",
       "..     ...    ...    ...    ...             ...\n",
       "145    6.7    3.0    5.2    2.3  Iris-virginica\n",
       "146    6.3    2.5    5.0    1.9  Iris-virginica\n",
       "147    6.5    3.0    5.2    2.0  Iris-virginica\n",
       "148    6.2    3.4    5.4    2.3  Iris-virginica\n",
       "149    5.9    3.0    5.1    1.8  Iris-virginica\n",
       "\n",
       "[150 rows x 5 columns]"
      ]
     },
     "execution_count": 2,
     "metadata": {},
     "output_type": "execute_result"
    }
   ],
   "source": [
    "# Read into the iris data set\n",
    "\n",
    "df = pd.read_csv('iris.data', header=None) # Make sure iris.data is in the working directory\n",
    "df.columns = ['S_len','S_wid','P_len','P_wid','Type']\n",
    "df2 = df.drop('Type',axis=1)\n",
    "df"
   ]
  },
  {
   "cell_type": "markdown",
   "metadata": {},
   "source": [
    "## Data visualization (B)\n"
   ]
  },
  {
   "cell_type": "code",
   "execution_count": 3,
   "metadata": {},
   "outputs": [
    {
     "name": "stdout",
     "output_type": "stream",
     "text": [
      "          PC1       PC2            Type\n",
      "0   -2.684207 -0.326607     Iris-setosa\n",
      "1   -2.715391  0.169557     Iris-setosa\n",
      "2   -2.889820  0.137346     Iris-setosa\n",
      "3   -2.746437  0.311124     Iris-setosa\n",
      "4   -2.728593 -0.333925     Iris-setosa\n",
      "..        ...       ...             ...\n",
      "145  1.944017 -0.187415  Iris-virginica\n",
      "146  1.525664  0.375021  Iris-virginica\n",
      "147  1.764046 -0.078519  Iris-virginica\n",
      "148  1.901629 -0.115877  Iris-virginica\n",
      "149  1.389666  0.282887  Iris-virginica\n",
      "\n",
      "[150 rows x 3 columns]\n"
     ]
    },
    {
     "data": {
      "text/plain": [
       "(-3, 2)"
      ]
     },
     "execution_count": 3,
     "metadata": {},
     "output_type": "execute_result"
    },
    {
     "data": {
      "image/png": "[encoded data removed]",
      "text/plain": [
       "<Figure size 432x288 with 1 Axes>"
      ]
     },
     "metadata": {
      "needs_background": "light"
     },
     "output_type": "display_data"
    }
   ],
   "source": [
    "# Centering the columns so that the column means are zero\n",
    "\n",
    "def centering_df(df):\n",
    "    \"\"\"\n",
    "    centering_df will calculate column mean for each column and then each element in that column will subtract the column mean\n",
    "    \n",
    "    :param df: the dataframe with numeric columns that need to be centered\n",
    "    \n",
    "    :return: returns the centered dataframe  \n",
    "    \n",
    "    \"\"\"\n",
    "    \n",
    "    for column in df.columns:\n",
    "        mean = df[column].mean()\n",
    "        df[column] = (df[column] - mean)\n",
    "    return df\n",
    "    \n",
    "    \n",
    "\n",
    "def pca(df):\n",
    "    \"\"\"\n",
    "    pca will center the dataframe and then return the values in dataframe as the linear combination of the two most significant principal components \n",
    "    \n",
    "    :param df: dataframe of numeric values that need pca done on\n",
    "    \n",
    "    :return: returns the dataframe represented by the two most significant principal components.\n",
    "    \n",
    "    \"\"\"\n",
    "    \n",
    "    centering_df(df)        \n",
    "    u,s,v = np.linalg.svd(df, full_matrices=True)\n",
    "    u = u[:,0:2]\n",
    "    u[:,0] = u[:,0]*s[0]\n",
    "    u[:,1] = u[:,1]*s[1]\n",
    "    return u\n",
    "\n",
    "      \n",
    "\n",
    "    \n",
    "# Visualizing the data-points in 2 dimensions using the two most significant principal components with their correct label.\n",
    "coords = pca(df2)\n",
    "SVD_plot = pd.DataFrame(coords)\n",
    "SVD_plot['Type'] = df['Type']\n",
    "SVD_plot.columns = ['PC1', 'PC2','Type']\n",
    "\n",
    "print(SVD_plot)\n",
    "\n",
    "\n",
    "ax = sns.scatterplot(x='PC1',y='PC2',hue='Type', data=SVD_plot)\n",
    "ax.set_ylim(-3,2)\n"
   ]
  },
  {
   "cell_type": "markdown",
   "metadata": {},
   "source": [
    "## Clustering using GMM and the EM algorithm (C)"
   ]
  },
  {
   "cell_type": "markdown",
   "metadata": {},
   "source": [
    "### Clustering using K-Means (C-1)"
   ]
  },
  {
   "cell_type": "code",
   "execution_count": 4,
   "metadata": {},
   "outputs": [
    {
     "data": {
      "text/plain": [
       "(-4, 4)"
      ]
     },
     "execution_count": 4,
     "metadata": {},
     "output_type": "execute_result"
    },
    {
     "data": {
      "image/png": "[encoded data removed]",
      "text/plain": [
       "<Figure size 432x288 with 1 Axes>"
      ]
     },
     "metadata": {
      "needs_background": "light"
     },
     "output_type": "display_data"
    }
   ],
   "source": [
    "# Setting seed so clusters are the same\n",
    "my_seed = 54\n",
    "\n",
    "# Computing predictions using k-means from sklearn \n",
    "km = KMeans(n_clusters=3,random_state=my_seed)\n",
    "\n",
    "km.fit(SVD_plot[['PC1','PC2']])\n",
    "\n",
    "SVD_plot['K_Predict'] = km.labels_\n",
    "color_dict_K = dict({0: 'Black',1:'Red',2:'Purple'})\n",
    "\n",
    "ax = sns.scatterplot(x='PC1',y='PC2',hue='K_Predict', data=SVD_plot, palette=color_dict_K)\n",
    "\n",
    "centers = km.cluster_centers_\n",
    "\n",
    "# Computing the distances from each point from each cluster to their respective centers and finding the max for each cluster to assign to each cluster radius\n",
    "radius_list = [cdist(SVD_plot[SVD_plot['K_Predict']==i][['PC1','PC2']], [center]).max() for i,center in enumerate(centers)]\n",
    "\n",
    "# Display cluster centres\n",
    "sns.scatterplot(centers[:,0], centers[:,1], marker='X', s=100, alpha=1, color = 'green')\n",
    "\n",
    "\n",
    "# Display shapes of the clusters\n",
    "for center,radius1 in zip(centers,radius_list):\n",
    "    ax.add_patch(plt.Circle(center, radius=radius1,fc='#C0C0C0',alpha=0.3))\n",
    "ax.set_ylim(-4,4)\n",
    "ax.set_xlim(-4,4)\n",
    "\n",
    "\n"
   ]
  },
  {
   "cell_type": "markdown",
   "metadata": {},
   "source": [
    "### Accuracy of K-Means (C-2)"
   ]
  },
  {
   "cell_type": "code",
   "execution_count": 5,
   "metadata": {},
   "outputs": [
    {
     "name": "stdout",
     "output_type": "stream",
     "text": [
      "K_Predict         0   1   2\n",
      "Type                       \n",
      "Iris-setosa      50   0   0\n",
      "Iris-versicolor   0  47   3\n",
      "Iris-virginica    0  14  36\n",
      "The accuracy of K-Means is 88.67 %\n"
     ]
    }
   ],
   "source": [
    "ct = pd.crosstab(SVD_plot['Type'],SVD_plot['K_Predict'])\n",
    "print(ct)\n",
    "\n",
    "accuracy = round((ct[0].max()+ct[1].max()+ct[2].max())*100/len(SVD_plot),2)\n",
    "print(\"The accuracy of K-Means is\",accuracy,\"%\")\n",
    "\n",
    "#### Find the centroid of the types then assign each 'label' to the nearest type and then calculate accuracy"
   ]
  },
  {
   "cell_type": "markdown",
   "metadata": {},
   "source": [
    "### Initial values for EM-algorithm using K-Means (C-3)"
   ]
  },
  {
   "cell_type": "code",
   "execution_count": 6,
   "metadata": {},
   "outputs": [
    {
     "name": "stdout",
     "output_type": "stream",
     "text": [
      "Initial parameters:{ [0.3333333333333333, PC1   -2.640841\n",
      "PC2   -0.190520\n",
      "dtype: float64,           PC1       PC2\n",
      "PC1  0.048745 -0.057049\n",
      "PC2 -0.057049  0.219106] }\n",
      "Initial parameters:{ [0.26, PC1    2.346451\n",
      "PC2   -0.272355\n",
      "dtype: float64,           PC1       PC2\n",
      "PC1  0.360808 -0.108511\n",
      "PC2 -0.108511  0.135611] }\n",
      "Initial parameters:{ [0.4066666666666667, PC1    0.664434\n",
      "PC2    0.330292\n",
      "dtype: float64,           PC1       PC2\n",
      "PC1  0.384046 -0.111685\n",
      "PC2 -0.111685  0.147374] }\n"
     ]
    }
   ],
   "source": [
    "## EM algo initial find the mean,covariance and prob of each cluster \n",
    "\n",
    "initial_cluster_prob = [len(SVD_plot[SVD_plot['K_Predict']==cluster])/len(SVD_plot) for cluster in SVD_plot['K_Predict'].unique()]\n",
    "\n",
    "initial_mean = [SVD_plot[SVD_plot['K_Predict']==cluster][['PC1','PC2']].mean() for cluster in SVD_plot['K_Predict'].unique()]\n",
    "\n",
    "initial_cov = [SVD_plot[SVD_plot['K_Predict']==cluster][['PC1','PC2']].cov() for cluster in SVD_plot['K_Predict'].unique()]\n",
    "\n",
    "theta_KM = [[initial_cluster_prob[0],initial_mean[0],initial_cov[0]],[initial_cluster_prob[1],initial_mean[1],initial_cov[1]],[initial_cluster_prob[2],initial_mean[2],initial_cov[2]]]\n",
    "\n",
    "print('Initial parameters:{',theta_KM[0],'}')\n",
    "print('Initial parameters:{',theta_KM[1],'}')\n",
    "print('Initial parameters:{',theta_KM[2],'}')"
   ]
  },
  {
   "cell_type": "markdown",
   "metadata": {},
   "source": [
    "### Implementation of the EM algorithm (C-4)"
   ]
  },
  {
   "cell_type": "code",
   "execution_count": 7,
   "metadata": {},
   "outputs": [],
   "source": [
    "## Responsibilities/ E STEP calcluates the responsibilities for each point for each cluster\n",
    "\n",
    "def responsibilities(matrix,cluster_list,pi_cluster,mean_cluster,cov_cluster):\n",
    "    \"\"\"\n",
    "    responsibilities calculates the responsibilities of each point to each cluster\n",
    "    \n",
    "    :param1 matrix: the numeric dataframe containing the points that you want to calculate the responsiblities to each cluster\n",
    "    :param2 cluster_list: the list of clusters\n",
    "    :param3 pi_cluster: list containing the probability to belong in each cluster\n",
    "    :param4 mean_cluster: list containing the centres of each cluster\n",
    "    :param5 cov_cluster: list containing the covariance matrix of each cluster\n",
    "    \n",
    "    :return: list of responsibilities of each point for each cluster\n",
    "    \"\"\"\n",
    "    \n",
    "    \n",
    "    # Creates a list of multivariate normal distributions with the params list\n",
    "    multi_dists = [multivariate_normal(mean=mean_cluster[cluster],cov=cov_cluster[cluster]) for cluster in cluster_list]\n",
    "    response_all = []\n",
    "    response_cluster = []\n",
    "    for cluster in cluster_list:\n",
    "\n",
    "        for i in range(len(matrix)):\n",
    "            #calulates the responsibilites for each point for cluster\n",
    "            prob_given_theta = (multi_dists[cluster].pdf(matrix[['PC1','PC2']].iloc[i]))*pi_cluster[cluster]/(sum([multi_dists[cluster_all].pdf(matrix[['PC1','PC2']].iloc[i])*pi_cluster[cluster_all] for cluster_all in cluster_list]))\n",
    "            response_cluster.append(prob_given_theta)\n",
    "        response_all.append(response_cluster)\n",
    "        response_cluster = []\n",
    "    return response_all"
   ]
  },
  {
   "cell_type": "code",
   "execution_count": 8,
   "metadata": {},
   "outputs": [],
   "source": [
    "## M step to calculate the next iteration of parameters (probability,means,covariance matrix)\n",
    "\n",
    "\n",
    "def M_step(X,responsibility):\n",
    "    \"\"\"\n",
    "    M_step calculates the next parameters for the clusters based on the responsibilities\n",
    "    \n",
    "    :param1 X: The dataframe of numeric values (coordinates)\n",
    "    :param2 responsibility: list containing the responsibilities of each point for each cluster\n",
    "    \n",
    "    \n",
    "    :return: returns the next set of parameters for the cluster (probabilities, centres, covariance matrices) \n",
    "    \n",
    "    \"\"\"\n",
    "    \n",
    "    \n",
    "    cluster_prob = [(sum(cluster)/len(X)) for cluster in responsibility]\n",
    "    \n",
    "    # Multiplies each row of X with respective responsibilities and sums then divides by sum of clusters\n",
    "    mean_cluster = [((X[['PC1','PC2']]*(np.array(cluster).reshape(150,1))).sum())/(sum(cluster)) for cluster in responsibility]\n",
    "    \n",
    "    cov_list =[]\n",
    "\n",
    "    # Calculating the next iteration of covariance matrix using the formula\n",
    "    for mu_i,cluster in enumerate(responsibility):\n",
    "        sum_equ =0\n",
    "        for i,row in X[['PC1','PC2']].iterrows():\n",
    "            sum_equ += (np.dot((np.array(row)-np.array(mean_cluster[mu_i])).reshape(2,1), ((np.array(row)-np.array(mean_cluster[mu_i])).reshape(1,2)))*((np.array(cluster[i]))))\n",
    "    \n",
    "\n",
    "        cov_list.append(sum_equ/sum(cluster))\n",
    "    \n",
    "    \n",
    "    return cluster_prob,mean_cluster,cov_list\n"
   ]
  },
  {
   "cell_type": "code",
   "execution_count": 9,
   "metadata": {},
   "outputs": [],
   "source": [
    "def likelihood(X,responsibility,prob,mean_cluster,cov_cluster):\n",
    "    \"\"\"\n",
    "    likelihood calculates the negative complete log-likelihood\n",
    "    \n",
    "    :param1 X: The dataframe of numeric values (coordinates)\n",
    "    :param2 responsibility: list containing the responsibilities of each point for each cluster\n",
    "    :param3 prob: list containing the probability to belong in each cluster\n",
    "    :param4 mean_cluster: list containing the centres of each cluster\n",
    "    :param5 cov_cluster: list containing the covariance matrix of each cluster\n",
    "    \n",
    "    :return: returns the negative complete log-likelihood for those parameters in the model\n",
    "    \n",
    "    \"\"\"\n",
    "    \n",
    "    \n",
    "    n=0\n",
    "    # Creates a list of multivariate normal distributions with the params list\n",
    "    multi_dists = [multivariate_normal(mean=mean_cluster[cluster_dist],cov=cov_cluster[cluster_dist]) for cluster_dist in X['K_Predict'].unique()]\n",
    "    \n",
    "    for i,row in X[['PC1','PC2']].iterrows():\n",
    "        s=0\n",
    "        for j,cluster in enumerate(responsibility):\n",
    "            # Summing over points calucluating the log-likelihood\n",
    "            s += math.log(prob[j]*(multi_dists[j].pdf(row))/cluster[i])\n",
    "        n += s  \n",
    "    return -n\n",
    "            \n"
   ]
  },
  {
   "cell_type": "code",
   "execution_count": 10,
   "metadata": {},
   "outputs": [],
   "source": [
    "## EM-ALGORITHM\n",
    "\n",
    "def EM_algo(X,prob1,mean1,cov1,steps):\n",
    "    \"\"\"\n",
    "    EM_algo iterates through the E-Step and M-Step until the number of steps reached\n",
    "    \n",
    "    :param1 X: The dataframe of numeric values (coordinates)\n",
    "    :param2 prob1: list containing the initial probability to belong in each cluster\n",
    "    :param3 mean1: list containing the initial centres of each cluster\n",
    "    :param4 cov1: list containing the initial covariance matrix of each cluster\n",
    "    \n",
    "    :return: returns the parameters for each cluster after steps reached\n",
    "    \n",
    "    \"\"\"\n",
    "    \n",
    "    # Calls the steps and iterates those steps\n",
    "    \n",
    "    r_c_i = responsibilities(X,X['K_Predict'].unique(),prob1,mean1,cov1)\n",
    "    likelihood_2 = []\n",
    "    for i in range(steps):\n",
    "        prob,mean,cov = M_step(X,r_c_i)\n",
    "        r_c_i = responsibilities(X,X['K_Predict'].unique(),prob,mean,cov)\n",
    "        likelihood_2.append(likelihood(X,r_c_i,prob,mean,cov))\n",
    "        \n",
    "    \n",
    "    return prob,mean,cov,r_c_i,likelihood_2\n"
   ]
  },
  {
   "cell_type": "markdown",
   "metadata": {},
   "source": [
    "### Final set of parameters (C-5) "
   ]
  },
  {
   "cell_type": "code",
   "execution_count": 11,
   "metadata": {},
   "outputs": [
    {
     "name": "stdout",
     "output_type": "stream",
     "text": [
      "Final parameters:{ [0.3333333333333021, PC1   -2.640841\n",
      "PC2   -0.190520\n",
      "dtype: float64, array([[ 0.04777048, -0.05590782],\n",
      "       [-0.05590782,  0.21472356]])] }\n",
      "Final parameters:{ [0.34745028070642475, PC1    2.048053\n",
      "PC2   -0.021971\n",
      "dtype: float64, array([[ 0.54838261, -0.29269576],\n",
      "       [-0.29269576,  0.23444209]])] }\n",
      "Final parameters:{ [0.3192163859602732, PC1    0.52843\n",
      "PC2    0.22286\n",
      "dtype: float64, array([[ 0.37282055, -0.21720721],\n",
      "       [-0.21720721,  0.18631807]])] }\n"
     ]
    }
   ],
   "source": [
    "# Calculating 20 iterations using EM-Algorithm\n",
    "p20,m20,c20,r_c_i_o_20,likelihood20 = EM_algo(SVD_plot,initial_cluster_prob,initial_mean,initial_cov,20)\n",
    "p20,m20,c20\n",
    "\n",
    "theta = [[p20[0],m20[0],c20[0]],[p20[1],m20[1],c20[1]],[p20[2],m20[2],c20[2]]]\n",
    "\n",
    "print('Final parameters:{',theta[0],'}')\n",
    "print('Final parameters:{',theta[1],'}')\n",
    "print('Final parameters:{',theta[2],'}')"
   ]
  },
  {
   "cell_type": "markdown",
   "metadata": {},
   "source": [
    "### Accuracy of the cluster assignment by EM-Algorithm (C-6)"
   ]
  },
  {
   "cell_type": "code",
   "execution_count": 12,
   "metadata": {},
   "outputs": [],
   "source": [
    "def prediction_EM(r_c_i_op):\n",
    "    \"\"\"\n",
    "    prediction_EM will assign hard values to point to each cluster based on which cluster had the highest responsibilities for each point\n",
    "    \n",
    "    :param1 r_c_i_op: the list of final responsibilites of each point to each cluster\n",
    "    \n",
    "    :return: returns the list of predictions for each point to each cluster\n",
    "    \n",
    "    \"\"\"\n",
    "    prediction_list = []\n",
    "    for i in range(len(r_c_i_op[0])):\n",
    "        # Checks which cluster had the highest responsibility for each point\n",
    "        if ((r_c_i_op[0][i] > r_c_i_op[1][i]) and (r_c_i_op[0][i] > r_c_i_op[2][i])):\n",
    "            prediction_list.append(0)\n",
    "        elif ((r_c_i_op[1][i] > r_c_i_op[0][i]) and (r_c_i_op[1][i] > r_c_i_op[2][i])):\n",
    "            prediction_list.append(2)\n",
    "        else:\n",
    "            prediction_list.append(1)\n",
    "    return prediction_list"
   ]
  },
  {
   "cell_type": "code",
   "execution_count": 13,
   "metadata": {},
   "outputs": [
    {
     "name": "stdout",
     "output_type": "stream",
     "text": [
      "EM_predict        0   1   2\n",
      "Type                       \n",
      "Iris-setosa      50   0   0\n",
      "Iris-versicolor   0  47   3\n",
      "Iris-virginica    0   1  49\n",
      "The accuracy of using EM-algorithm to assign clusters is 97.33 %\n"
     ]
    }
   ],
   "source": [
    "# Creates a crosstab between EM-predict and the Type and will calculate accuracy based on values outside the biggest type groups for each cluster\n",
    "\n",
    "EM_predict = prediction_EM(r_c_i_o_20)\n",
    "SVD_plot['EM_predict'] = EM_predict\n",
    "ct2 = pd.crosstab(SVD_plot['Type'],SVD_plot['EM_predict'])\n",
    "print(ct2)\n",
    "\n",
    "accuracy2 = round((ct2[0].max()+ct2[1].max()+ct2[2].max())*100/len(SVD_plot),2)\n",
    "print(\"The accuracy of using EM-algorithm to assign clusters is\",accuracy2,\"%\")\n"
   ]
  },
  {
   "cell_type": "markdown",
   "metadata": {},
   "source": [
    "### Display cluster assignment by EM-Algorithm (C-7)"
   ]
  },
  {
   "cell_type": "code",
   "execution_count": 14,
   "metadata": {},
   "outputs": [],
   "source": [
    "from matplotlib.patches import Ellipse\n",
    "import numpy as np\n",
    "def draw_ellipse(position, covariance, ax=None, **kwargs):\n",
    "    \"\"\"Draw an ellipse with a given position and covariance\"\"\"\n",
    "    ax = ax or plt.gca()\n",
    "    \n",
    "    # Convert covariance to principal axes\n",
    "    U, s, Vt = np.linalg.svd(covariance)\n",
    "    angle = np.degrees(np.arctan2(U[1, 0], U[0, 0]))\n",
    "    width, height = 2 * np.sqrt(s)\n",
    "\n",
    "    # Draw the Ellipse\n",
    "    for nsig in range(1, 5):\n",
    "        ax.add_patch(Ellipse(position, nsig * width, nsig * height, angle, **kwargs))"
   ]
  },
  {
   "cell_type": "code",
   "execution_count": 15,
   "metadata": {},
   "outputs": [
    {
     "data": {
      "text/plain": [
       "(-3.8, 5)"
      ]
     },
     "execution_count": 15,
     "metadata": {},
     "output_type": "execute_result"
    },
    {
     "data": {
      "image/png": "[encoded data removed]",
      "text/plain": [
       "<Figure size 432x288 with 1 Axes>"
      ]
     },
     "metadata": {
      "needs_background": "light"
     },
     "output_type": "display_data"
    }
   ],
   "source": [
    "\n",
    "color_dict_K = dict({0: 'Black',1:'Red',2:'Purple'})\n",
    "\n",
    "ax = sns.scatterplot(x='PC1',y='PC2',hue='EM_predict', data=SVD_plot, palette=color_dict_K)\n",
    "sns.scatterplot(x=np.array(m20)[:,0], y=np.array(m20)[:,1], marker='X', s=100, alpha=1, color = 'blue')\n",
    "draw_ellipse(m20[0],c20[0],alpha=0.1)\n",
    "draw_ellipse(m20[1],c20[1],alpha=0.1,color= 'green')\n",
    "draw_ellipse(m20[2],c20[2],alpha=0.1,color='red')\n",
    "\n",
    "ax.set_ylim(-3.5,4.2)\n",
    "ax.set_xlim(-3.8,5)\n",
    "\n"
   ]
  },
  {
   "cell_type": "markdown",
   "metadata": {},
   "source": [
    "### DISCUSSION OF CONVERGENCE (C-8)"
   ]
  },
  {
   "cell_type": "code",
   "execution_count": 16,
   "metadata": {},
   "outputs": [
    {
     "data": {
      "text/plain": [
       "[<matplotlib.lines.Line2D at 0x199b5816108>]"
      ]
     },
     "execution_count": 16,
     "metadata": {},
     "output_type": "execute_result"
    },
    {
     "data": {
      "image/png": "[encoded data removed]",
      "text/plain": [
       "<Figure size 432x288 with 1 Axes>"
      ]
     },
     "metadata": {
      "needs_background": "light"
     },
     "output_type": "display_data"
    }
   ],
   "source": [
    "import numpy as np\n",
    "import matplotlib.pyplot as plt\n",
    " \n",
    "# data to be plotted\n",
    "x1 = np.arange(1,21)\n",
    "x2 = np.arange(1, 81)\n",
    "\n",
    "# fig,axs = plt.subplots(2)\n",
    " \n",
    "# plotting\n",
    "plt.title(\"See minimum of iterations to reach local minimum (at 20 iterations)\")\n",
    "plt.xlabel(\"Number of Iterations\")\n",
    "plt.ylabel(\"Negative log-likelihood\")\n",
    "plt.xticks(np.arange(min(x1), max(x1)+1, 1))\n",
    "plt.plot(x1, likelihood20, color =\"red\")\n",
    "\n",
    "\n",
    "\n"
   ]
  },
  {
   "cell_type": "code",
   "execution_count": 17,
   "metadata": {},
   "outputs": [
    {
     "data": {
      "image/png": "[encoded data removed]",
      "text/plain": [
       "<Figure size 432x288 with 1 Axes>"
      ]
     },
     "metadata": {
      "needs_background": "light"
     },
     "output_type": "display_data"
    }
   ],
   "source": [
    "# Calculating 80 iterations\n",
    "p100,m100,c100,r_c_i_o_100,likelihood100 = EM_algo(SVD_plot,initial_cluster_prob,initial_mean,initial_cov,80)\n",
    "\n",
    "plt.title(\"See Negative log-likelihood levels off\")\n",
    "plt.xlabel(\"Number of Iterations\")\n",
    "plt.ylabel(\"Negative log-likelihood\")\n",
    "plt.xticks(np.arange(min(x2), max(x2)+1, 10))\n",
    "plt.plot(x2, likelihood100, color =\"red\")\n",
    "plt.show()"
   ]
  },
  {
   "cell_type": "markdown",
   "metadata": {},
   "source": [
    "### Discussion about accuracy of K-Means compared to EM-Algorithm (C-9)"
   ]
  },
  {
   "cell_type": "code",
   "execution_count": 18,
   "metadata": {},
   "outputs": [
    {
     "name": "stdout",
     "output_type": "stream",
     "text": [
      "K_Predict         0   1   2\n",
      "Type                       \n",
      "Iris-setosa      50   0   0\n",
      "Iris-versicolor   0  47   3\n",
      "Iris-virginica    0  14  36\n",
      "The accuracy of K-Means is 88.67 % \n",
      "\n",
      "EM_predict        0   1   2\n",
      "Type                       \n",
      "Iris-setosa      50   0   0\n",
      "Iris-versicolor   0  47   3\n",
      "Iris-virginica    0   1  49\n",
      "The accuracy of using EM-algorithm to assign clusters is 97.33 %\n"
     ]
    }
   ],
   "source": [
    "print(ct)\n",
    "print(\"The accuracy of K-Means is\",accuracy,\"% \\n\")\n",
    "print(ct2)\n",
    "print(\"The accuracy of using EM-algorithm to assign clusters is\",accuracy2,\"%\")\n",
    "\n"
   ]
  }
 ],
 "metadata": {
  "kernelspec": {
   "display_name": "Python 3",
   "language": "python",
   "name": "python3"
  },
  "language_info": {
   "codemirror_mode": {
    "name": "ipython",
    "version": 3
   },
   "file_extension": ".py",
   "mimetype": "text/x-python",
   "name": "python",
   "nbconvert_exporter": "python",
   "pygments_lexer": "ipython3",
   "version": "3.7.6"
  }
 },
 "nbformat": 4,
 "nbformat_minor": 4
}
